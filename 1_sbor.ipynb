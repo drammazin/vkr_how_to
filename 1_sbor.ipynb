{
 "metadata": {
  "language_info": {
   "codemirror_mode": {
    "name": "ipython",
    "version": 3
   },
   "file_extension": ".py",
   "mimetype": "text/x-python",
   "name": "python",
   "nbconvert_exporter": "python",
   "pygments_lexer": "ipython3",
   "version": "3.8.3-final"
  },
  "orig_nbformat": 2,
  "kernelspec": {
   "name": "python3",
   "display_name": "Python 3",
   "language": "python"
  }
 },
 "nbformat": 4,
 "nbformat_minor": 2,
 "cells": [
  {
   "source": [
    "# ВКР на политфаке: how to?\n",
    "\n",
    "## Part I: they see me parsin'\n",
    "Эта часть посвящена сбору и первичной обработке данных для исследования\n",
    "\n",
    "*Никита Смирнов, Анна Иванешкина, БПТ-181*"
   ],
   "cell_type": "markdown",
   "metadata": {}
  },
  {
   "source": [
    "**0. Подгрузка всех необходимых пакетов**"
   ],
   "cell_type": "markdown",
   "metadata": {}
  },
  {
   "cell_type": "code",
   "execution_count": 1,
   "metadata": {},
   "outputs": [],
   "source": [
    "import requests\n",
    "import numpy as np\n",
    "import pandas as pd \n",
    "import time\n",
    "\n",
    "from selenium import webdriver as wd\n",
    "from bs4 import BeautifulSoup as bs"
   ]
  },
  {
   "source": [
    "**1. Сбор данных: requests**"
   ],
   "cell_type": "markdown",
   "metadata": {}
  },
  {
   "cell_type": "code",
   "execution_count": 2,
   "metadata": {},
   "outputs": [],
   "source": [
    "# Создадим функцию, которая собирает изначальные данные со страницы конкретной ОП\n",
    "\n",
    "def parse(program, page):\n",
    "\n",
    "\n",
    "    url = 'https://www.hse.ru/ba/' + str(program) + '/students/diplomas/' + 'page' + str(page) + '.html'\n",
    "    response = requests.get(url)\n",
    "    tree = bs(response.content, 'html.parser')\n",
    "\n",
    "    works = tree.find('div', {'class' : 'education-content education-content--no_indent'})\n",
    "    works = works.find_all('div', {'class' : 'edu-programm__item small'})\n",
    "\n",
    "    data = []\n",
    "\n",
    "    for item in works:\n",
    "        try:\n",
    "            supervisor = item.find('div', {'data-title': 'Руководитель'}).a.text\n",
    "            superlink = item.find('div', {'data-title': 'Руководитель'}).a.get('href').strip('//')\n",
    "        except AttributeError:\n",
    "            supervisor = item.find('div', {'data-title': 'Руководитель'}).text.strip()\n",
    "            superlink = ''\n",
    "    \n",
    "        year = item.find('div', {'data-title': 'Год защиты'}).text\n",
    "        student = item.find('div', {'data-title': 'ФИО студента'}).text\n",
    "        \n",
    "        try:\n",
    "            text = item.find('div', {'data-title': 'Текст работы'}).span.get('class')\n",
    "            text = 1\n",
    "        except AttributeError:\n",
    "            text = 0\n",
    "\n",
    "        papername = item.find('div', {'data-title': 'Название работы'}).text\n",
    "        annotlink =  'https://' + item.find('div', {'data-title': 'Название работы'}).a.get('href').strip('//')\n",
    "\n",
    "        vkr = [papername, annotlink, text, student, year, supervisor, superlink]\n",
    "        data.append(vkr)\n",
    "\n",
    "    data = np.array(data)\n",
    "    data = pd.DataFrame(data, columns = ['papername', 'annotlink', 'text', 'student', 'year', 'supervisor', 'superlink'])\n",
    "    return data\n"
   ]
  },
  {
   "cell_type": "code",
   "execution_count": 3,
   "metadata": {},
   "outputs": [
    {
     "output_type": "execute_result",
     "data": {
      "text/plain": [
       "                                           papername  \\\n",
       "0  \"Абсурдные\" электоральные акторы: происхождени...   \n",
       "1  Взаимосвязь между стабильностью политического ...   \n",
       "2  Взаимосвязь между электронным правительством и...   \n",
       "3  Взаимосвязь социально-политической напряженнос...   \n",
       "4  Взаимосвязь уровня коррупции и гендерного нера...   \n",
       "\n",
       "                              annotlink text                       student  \\\n",
       "0  https://www.hse.ru/edu/vkr/364642404    1     Коротеева Полина Петровна   \n",
       "1  https://www.hse.ru/edu/vkr/366243110    0   Минина Анастасия Алексеевна   \n",
       "2  https://www.hse.ru/edu/vkr/366241655    0    Науширванов Тимур Олегович   \n",
       "3  https://www.hse.ru/edu/vkr/366244578    1   Локаева Екатерина Андреевна   \n",
       "4  https://www.hse.ru/edu/vkr/366242960    0  Макарова Анастасия Вадимовна   \n",
       "\n",
       "   year                      supervisor                        superlink  \\\n",
       "0  2020        Каспэ Святослав Игоревич     www.hse.ru/org/persons/67280   \n",
       "1  2020           Розенберг Дина Яновна  www.hse.ru/org/persons/64235685   \n",
       "2  2020           Розенберг Дина Яновна  www.hse.ru/org/persons/64235685   \n",
       "3  2020  Туровский Ростислав Феликсович     www.hse.ru/org/persons/67524   \n",
       "4  2020   Сальникова Дарья Вячеславовна       www.hse.ru/staff/salnikova   \n",
       "\n",
       "       program  \n",
       "0  Политология  \n",
       "1  Политология  \n",
       "2  Политология  \n",
       "3  Политология  \n",
       "4  Политология  "
      ],
      "text/html": "<div>\n<style scoped>\n    .dataframe tbody tr th:only-of-type {\n        vertical-align: middle;\n    }\n\n    .dataframe tbody tr th {\n        vertical-align: top;\n    }\n\n    .dataframe thead th {\n        text-align: right;\n    }\n</style>\n<table border=\"1\" class=\"dataframe\">\n  <thead>\n    <tr style=\"text-align: right;\">\n      <th></th>\n      <th>papername</th>\n      <th>annotlink</th>\n      <th>text</th>\n      <th>student</th>\n      <th>year</th>\n      <th>supervisor</th>\n      <th>superlink</th>\n      <th>program</th>\n    </tr>\n  </thead>\n  <tbody>\n    <tr>\n      <th>0</th>\n      <td>\"Абсурдные\" электоральные акторы: происхождени...</td>\n      <td>https://www.hse.ru/edu/vkr/364642404</td>\n      <td>1</td>\n      <td>Коротеева Полина Петровна</td>\n      <td>2020</td>\n      <td>Каспэ Святослав Игоревич</td>\n      <td>www.hse.ru/org/persons/67280</td>\n      <td>Политология</td>\n    </tr>\n    <tr>\n      <th>1</th>\n      <td>Взаимосвязь между стабильностью политического ...</td>\n      <td>https://www.hse.ru/edu/vkr/366243110</td>\n      <td>0</td>\n      <td>Минина Анастасия Алексеевна</td>\n      <td>2020</td>\n      <td>Розенберг Дина Яновна</td>\n      <td>www.hse.ru/org/persons/64235685</td>\n      <td>Политология</td>\n    </tr>\n    <tr>\n      <th>2</th>\n      <td>Взаимосвязь между электронным правительством и...</td>\n      <td>https://www.hse.ru/edu/vkr/366241655</td>\n      <td>0</td>\n      <td>Науширванов Тимур Олегович</td>\n      <td>2020</td>\n      <td>Розенберг Дина Яновна</td>\n      <td>www.hse.ru/org/persons/64235685</td>\n      <td>Политология</td>\n    </tr>\n    <tr>\n      <th>3</th>\n      <td>Взаимосвязь социально-политической напряженнос...</td>\n      <td>https://www.hse.ru/edu/vkr/366244578</td>\n      <td>1</td>\n      <td>Локаева Екатерина Андреевна</td>\n      <td>2020</td>\n      <td>Туровский Ростислав Феликсович</td>\n      <td>www.hse.ru/org/persons/67524</td>\n      <td>Политология</td>\n    </tr>\n    <tr>\n      <th>4</th>\n      <td>Взаимосвязь уровня коррупции и гендерного нера...</td>\n      <td>https://www.hse.ru/edu/vkr/366242960</td>\n      <td>0</td>\n      <td>Макарова Анастасия Вадимовна</td>\n      <td>2020</td>\n      <td>Сальникова Дарья Вячеславовна</td>\n      <td>www.hse.ru/staff/salnikova</td>\n      <td>Политология</td>\n    </tr>\n  </tbody>\n</table>\n</div>"
     },
     "metadata": {},
     "execution_count": 3
    }
   ],
   "source": [
    "# Пройдемся этой функцией по всем ОП ФСН и объединим результаты в один датафрейм: \n",
    "\n",
    "polit = pd.concat([parse('political', i) for i in range(1, 16)])\n",
    "polit['program'] = 'Политология'\n",
    "soc = pd.concat([parse('soc', i) for i in range(1, 24)])\n",
    "soc['program'] = 'Социология'\n",
    "gmu = pd.concat([parse('gmu', i) for i in range(1, 22)])\n",
    "gmu['program'] = 'ГМУ'\n",
    "psy = pd.concat([parse('psy', i) for i in range(1, 15)])\n",
    "psy['program'] = 'Психология'\n",
    "\n",
    "programs = [polit, soc, gmu, psy]\n",
    "fsn = pd.concat(programs)\n",
    "fsn.head()"
   ]
  },
  {
   "cell_type": "code",
   "execution_count": 2,
   "metadata": {},
   "outputs": [],
   "source": [
    "# Теперь пройдемся по всем строкам этой таблицы, и соберем аннотации и оценки для тех ВКР, где они существуют. \n",
    "# Определим для этого специальную функцию. \n",
    "# Обратим внимание на то, что СЕЛЕНИУМ [будь он проклят] может подвиснуть, застрахуемся от этого. \n",
    "\n",
    "def getinfo(link):\n",
    "\n",
    "    try:\n",
    "        time.sleep(0.3)\n",
    "        br.get(link)\n",
    "        time.sleep(0.3)\n",
    "\n",
    "        mark = bs(br.page_source).find_all('span', {'class':'vkr-card__value'})[2].get_text()\n",
    "        annot = bs(br.page_source).find('div', {'class':'vkr-content__text'}).get_text()\n",
    "    \n",
    "    except:\n",
    "        mark = np.NaN\n",
    "        annot = np.NaN\n",
    "\n",
    "    return [mark, annot]"
   ]
  },
  {
   "cell_type": "code",
   "execution_count": 5,
   "metadata": {},
   "outputs": [
    {
     "output_type": "execute_result",
     "data": {
      "text/plain": [
       "                                           papername  \\\n",
       "0  \"Абсурдные\" электоральные акторы: происхождени...   \n",
       "1  Взаимосвязь между стабильностью политического ...   \n",
       "2  Взаимосвязь между электронным правительством и...   \n",
       "3  Взаимосвязь социально-политической напряженнос...   \n",
       "4  Взаимосвязь уровня коррупции и гендерного нера...   \n",
       "\n",
       "                              annotlink text                       student  \\\n",
       "0  https://www.hse.ru/edu/vkr/364642404    1     Коротеева Полина Петровна   \n",
       "1  https://www.hse.ru/edu/vkr/366243110    0   Минина Анастасия Алексеевна   \n",
       "2  https://www.hse.ru/edu/vkr/366241655    0    Науширванов Тимур Олегович   \n",
       "3  https://www.hse.ru/edu/vkr/366244578    1   Локаева Екатерина Андреевна   \n",
       "4  https://www.hse.ru/edu/vkr/366242960    0  Макарова Анастасия Вадимовна   \n",
       "\n",
       "   year                      supervisor                        superlink  \\\n",
       "0  2020        Каспэ Святослав Игоревич     www.hse.ru/org/persons/67280   \n",
       "1  2020           Розенберг Дина Яновна  www.hse.ru/org/persons/64235685   \n",
       "2  2020           Розенберг Дина Яновна  www.hse.ru/org/persons/64235685   \n",
       "3  2020  Туровский Ростислав Феликсович     www.hse.ru/org/persons/67524   \n",
       "4  2020   Сальникова Дарья Вячеславовна       www.hse.ru/staff/salnikova   \n",
       "\n",
       "       program                                          markannot  mark  \\\n",
       "0  Политология  [8, Данная работа посвящена изучению того, как...     8   \n",
       "1  Политология  [2020, Работа посвящена изучению террористичес...  2020   \n",
       "2  Политология  [2020, Исследование посвящено изучению взаимос...  2020   \n",
       "3  Политология  [8, Данное исследование фокусируется на выявле...     8   \n",
       "4  Политология  [2020, В настоящей работе целью исследования я...  2020   \n",
       "\n",
       "                                               annot  \n",
       "0  Данная работа посвящена изучению того, какие ф...  \n",
       "1  Работа посвящена изучению террористической акт...  \n",
       "2  Исследование посвящено изучению взаимосвязей м...  \n",
       "3  Данное исследование фокусируется на выявлении ...  \n",
       "4  В настоящей работе целью исследования является...  "
      ],
      "text/html": "<div>\n<style scoped>\n    .dataframe tbody tr th:only-of-type {\n        vertical-align: middle;\n    }\n\n    .dataframe tbody tr th {\n        vertical-align: top;\n    }\n\n    .dataframe thead th {\n        text-align: right;\n    }\n</style>\n<table border=\"1\" class=\"dataframe\">\n  <thead>\n    <tr style=\"text-align: right;\">\n      <th></th>\n      <th>papername</th>\n      <th>annotlink</th>\n      <th>text</th>\n      <th>student</th>\n      <th>year</th>\n      <th>supervisor</th>\n      <th>superlink</th>\n      <th>program</th>\n      <th>markannot</th>\n      <th>mark</th>\n      <th>annot</th>\n    </tr>\n  </thead>\n  <tbody>\n    <tr>\n      <th>0</th>\n      <td>\"Абсурдные\" электоральные акторы: происхождени...</td>\n      <td>https://www.hse.ru/edu/vkr/364642404</td>\n      <td>1</td>\n      <td>Коротеева Полина Петровна</td>\n      <td>2020</td>\n      <td>Каспэ Святослав Игоревич</td>\n      <td>www.hse.ru/org/persons/67280</td>\n      <td>Политология</td>\n      <td>[8, Данная работа посвящена изучению того, как...</td>\n      <td>8</td>\n      <td>Данная работа посвящена изучению того, какие ф...</td>\n    </tr>\n    <tr>\n      <th>1</th>\n      <td>Взаимосвязь между стабильностью политического ...</td>\n      <td>https://www.hse.ru/edu/vkr/366243110</td>\n      <td>0</td>\n      <td>Минина Анастасия Алексеевна</td>\n      <td>2020</td>\n      <td>Розенберг Дина Яновна</td>\n      <td>www.hse.ru/org/persons/64235685</td>\n      <td>Политология</td>\n      <td>[2020, Работа посвящена изучению террористичес...</td>\n      <td>2020</td>\n      <td>Работа посвящена изучению террористической акт...</td>\n    </tr>\n    <tr>\n      <th>2</th>\n      <td>Взаимосвязь между электронным правительством и...</td>\n      <td>https://www.hse.ru/edu/vkr/366241655</td>\n      <td>0</td>\n      <td>Науширванов Тимур Олегович</td>\n      <td>2020</td>\n      <td>Розенберг Дина Яновна</td>\n      <td>www.hse.ru/org/persons/64235685</td>\n      <td>Политология</td>\n      <td>[2020, Исследование посвящено изучению взаимос...</td>\n      <td>2020</td>\n      <td>Исследование посвящено изучению взаимосвязей м...</td>\n    </tr>\n    <tr>\n      <th>3</th>\n      <td>Взаимосвязь социально-политической напряженнос...</td>\n      <td>https://www.hse.ru/edu/vkr/366244578</td>\n      <td>1</td>\n      <td>Локаева Екатерина Андреевна</td>\n      <td>2020</td>\n      <td>Туровский Ростислав Феликсович</td>\n      <td>www.hse.ru/org/persons/67524</td>\n      <td>Политология</td>\n      <td>[8, Данное исследование фокусируется на выявле...</td>\n      <td>8</td>\n      <td>Данное исследование фокусируется на выявлении ...</td>\n    </tr>\n    <tr>\n      <th>4</th>\n      <td>Взаимосвязь уровня коррупции и гендерного нера...</td>\n      <td>https://www.hse.ru/edu/vkr/366242960</td>\n      <td>0</td>\n      <td>Макарова Анастасия Вадимовна</td>\n      <td>2020</td>\n      <td>Сальникова Дарья Вячеславовна</td>\n      <td>www.hse.ru/staff/salnikova</td>\n      <td>Политология</td>\n      <td>[2020, В настоящей работе целью исследования я...</td>\n      <td>2020</td>\n      <td>В настоящей работе целью исследования является...</td>\n    </tr>\n  </tbody>\n</table>\n</div>"
     },
     "metadata": {},
     "execution_count": 5
    }
   ],
   "source": [
    "# Пройдемся этой функцией по датафрейму:\n",
    "\n",
    "br = wd.Chrome(r'C:\\Users\\dramm\\Desktop\\chromedriver.exe')\n",
    "\n",
    "fsn['markannot'] = fsn['annotlink'].apply(getinfo)\n",
    "fsn['mark'] = fsn['markannot'].str[0]\n",
    "fsn['annot'] = fsn['markannot'].str[1]\n",
    "\n",
    "fsn.head()"
   ]
  },
  {
   "cell_type": "code",
   "execution_count": 6,
   "metadata": {},
   "outputs": [],
   "source": [
    "# Пройдемся по misparsed-строкам: \n",
    "empty = fsn[fsn['mark'].isnull()]\n",
    "\n",
    "br = wd.Chrome(r'C:\\Users\\dramm\\Desktop\\chromedriver.exe')\n",
    "\n",
    "empty['markannot'] = empty['annotlink'].apply(getinfo)\n",
    "empty['mark'] = empty['markannot'].str[0]\n",
    "empty['annot'] = empty['markannot'].str[1]"
   ]
  },
  {
   "cell_type": "code",
   "execution_count": 13,
   "metadata": {},
   "outputs": [
    {
     "output_type": "stream",
     "name": "stdout",
     "text": [
      "<class 'pandas.core.frame.DataFrame'>\nInt64Index: 2101 entries, 0 to 20\nData columns (total 11 columns):\n #   Column      Non-Null Count  Dtype \n---  ------      --------------  ----- \n 0   papername   2101 non-null   object\n 1   annotlink   2101 non-null   object\n 2   text        2101 non-null   object\n 3   student     2101 non-null   object\n 4   year        2101 non-null   object\n 5   supervisor  2101 non-null   object\n 6   superlink   2101 non-null   object\n 7   program     2101 non-null   object\n 8   markannot   2101 non-null   object\n 9   mark        2101 non-null   object\n 10  annot       2101 non-null   object\ndtypes: object(11)\nmemory usage: 197.0+ KB\n"
     ]
    }
   ],
   "source": [
    "# Теперь составим итоговый датафрейм: \n",
    "\n",
    "vkr_list = [fsn, empty]\n",
    "vkr = pd.concat(vkr_list)\n",
    "vkr.dropna(inplace=True)\n",
    "\n",
    "vkr.info()"
   ]
  },
  {
   "cell_type": "code",
   "execution_count": 14,
   "metadata": {},
   "outputs": [
    {
     "output_type": "execute_result",
     "data": {
      "text/plain": [
       "                                           papername  \\\n",
       "0  \"Абсурдные\" электоральные акторы: происхождени...   \n",
       "1  Взаимосвязь между стабильностью политического ...   \n",
       "2  Взаимосвязь между электронным правительством и...   \n",
       "3  Взаимосвязь социально-политической напряженнос...   \n",
       "4  Взаимосвязь уровня коррупции и гендерного нера...   \n",
       "\n",
       "                              annotlink  text                       student  \\\n",
       "0  https://www.hse.ru/edu/vkr/364642404     1     Коротеева Полина Петровна   \n",
       "1  https://www.hse.ru/edu/vkr/366243110     0   Минина Анастасия Алексеевна   \n",
       "2  https://www.hse.ru/edu/vkr/366241655     0    Науширванов Тимур Олегович   \n",
       "3  https://www.hse.ru/edu/vkr/366244578     1   Локаева Екатерина Андреевна   \n",
       "4  https://www.hse.ru/edu/vkr/366242960     0  Макарова Анастасия Вадимовна   \n",
       "\n",
       "   year                      supervisor                        superlink  \\\n",
       "0  2020        Каспэ Святослав Игоревич     www.hse.ru/org/persons/67280   \n",
       "1  2020           Розенберг Дина Яновна  www.hse.ru/org/persons/64235685   \n",
       "2  2020           Розенберг Дина Яновна  www.hse.ru/org/persons/64235685   \n",
       "3  2020  Туровский Ростислав Феликсович     www.hse.ru/org/persons/67524   \n",
       "4  2020   Сальникова Дарья Вячеславовна       www.hse.ru/staff/salnikova   \n",
       "\n",
       "       program  mark                                              annot  \n",
       "0  Политология   8.0  Данная работа посвящена изучению того, какие ф...  \n",
       "1  Политология   NaN  Работа посвящена изучению террористической акт...  \n",
       "2  Политология   NaN  Исследование посвящено изучению взаимосвязей м...  \n",
       "3  Политология   8.0  Данное исследование фокусируется на выявлении ...  \n",
       "4  Политология   NaN  В настоящей работе целью исследования является...  "
      ],
      "text/html": "<div>\n<style scoped>\n    .dataframe tbody tr th:only-of-type {\n        vertical-align: middle;\n    }\n\n    .dataframe tbody tr th {\n        vertical-align: top;\n    }\n\n    .dataframe thead th {\n        text-align: right;\n    }\n</style>\n<table border=\"1\" class=\"dataframe\">\n  <thead>\n    <tr style=\"text-align: right;\">\n      <th></th>\n      <th>papername</th>\n      <th>annotlink</th>\n      <th>text</th>\n      <th>student</th>\n      <th>year</th>\n      <th>supervisor</th>\n      <th>superlink</th>\n      <th>program</th>\n      <th>mark</th>\n      <th>annot</th>\n    </tr>\n  </thead>\n  <tbody>\n    <tr>\n      <th>0</th>\n      <td>\"Абсурдные\" электоральные акторы: происхождени...</td>\n      <td>https://www.hse.ru/edu/vkr/364642404</td>\n      <td>1</td>\n      <td>Коротеева Полина Петровна</td>\n      <td>2020</td>\n      <td>Каспэ Святослав Игоревич</td>\n      <td>www.hse.ru/org/persons/67280</td>\n      <td>Политология</td>\n      <td>8.0</td>\n      <td>Данная работа посвящена изучению того, какие ф...</td>\n    </tr>\n    <tr>\n      <th>1</th>\n      <td>Взаимосвязь между стабильностью политического ...</td>\n      <td>https://www.hse.ru/edu/vkr/366243110</td>\n      <td>0</td>\n      <td>Минина Анастасия Алексеевна</td>\n      <td>2020</td>\n      <td>Розенберг Дина Яновна</td>\n      <td>www.hse.ru/org/persons/64235685</td>\n      <td>Политология</td>\n      <td>NaN</td>\n      <td>Работа посвящена изучению террористической акт...</td>\n    </tr>\n    <tr>\n      <th>2</th>\n      <td>Взаимосвязь между электронным правительством и...</td>\n      <td>https://www.hse.ru/edu/vkr/366241655</td>\n      <td>0</td>\n      <td>Науширванов Тимур Олегович</td>\n      <td>2020</td>\n      <td>Розенберг Дина Яновна</td>\n      <td>www.hse.ru/org/persons/64235685</td>\n      <td>Политология</td>\n      <td>NaN</td>\n      <td>Исследование посвящено изучению взаимосвязей м...</td>\n    </tr>\n    <tr>\n      <th>3</th>\n      <td>Взаимосвязь социально-политической напряженнос...</td>\n      <td>https://www.hse.ru/edu/vkr/366244578</td>\n      <td>1</td>\n      <td>Локаева Екатерина Андреевна</td>\n      <td>2020</td>\n      <td>Туровский Ростислав Феликсович</td>\n      <td>www.hse.ru/org/persons/67524</td>\n      <td>Политология</td>\n      <td>8.0</td>\n      <td>Данное исследование фокусируется на выявлении ...</td>\n    </tr>\n    <tr>\n      <th>4</th>\n      <td>Взаимосвязь уровня коррупции и гендерного нера...</td>\n      <td>https://www.hse.ru/edu/vkr/366242960</td>\n      <td>0</td>\n      <td>Макарова Анастасия Вадимовна</td>\n      <td>2020</td>\n      <td>Сальникова Дарья Вячеславовна</td>\n      <td>www.hse.ru/staff/salnikova</td>\n      <td>Политология</td>\n      <td>NaN</td>\n      <td>В настоящей работе целью исследования является...</td>\n    </tr>\n  </tbody>\n</table>\n</div>"
     },
     "metadata": {},
     "execution_count": 14
    }
   ],
   "source": [
    "# Исправим типы данных и некорректно спарсившиеся аннотации и оценки: \n",
    "\n",
    "def markcheck(mark):\n",
    "    try: \n",
    "        mark = int(mark)\n",
    "        if mark > 10:\n",
    "            mark = np.NaN\n",
    "    except: \n",
    "        mark = np.NaN\n",
    "    return mark \n",
    "\n",
    "vkr['mark'] = vkr['mark'].apply(markcheck)\n",
    "\n",
    "def annotcheck(annot): \n",
    "    if annot == '-' or annot == 'а' or annot == '_' or annot == '':\n",
    "        annot = np.NaN\n",
    "    return annot\n",
    "\n",
    "vkr['annot'] = vkr['annot'].apply(annotcheck)\n",
    "\n",
    "vkr[['text', 'year']] = vkr[['text', 'year']].astype('int')\n",
    "\n",
    "vkr.drop(columns=['markannot'], inplace=True)\n",
    "\n",
    "vkr.head()"
   ]
  },
  {
   "source": [
    "Восторг! Сохраним наши данные в CSV, чтобы дальше с ними работать :)"
   ],
   "cell_type": "markdown",
   "metadata": {}
  },
  {
   "cell_type": "code",
   "execution_count": 16,
   "metadata": {},
   "outputs": [],
   "source": [
    "vkr.to_csv(r'C:\\Users\\dramm\\Desktop\\vkr.csv')"
   ]
  }
 ]
}