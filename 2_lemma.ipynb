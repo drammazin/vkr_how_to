{
 "metadata": {
  "language_info": {
   "codemirror_mode": {
    "name": "ipython",
    "version": 3
   },
   "file_extension": ".py",
   "mimetype": "text/x-python",
   "name": "python",
   "nbconvert_exporter": "python",
   "pygments_lexer": "ipython3",
   "version": "3.8.3-final"
  },
  "orig_nbformat": 2,
  "kernelspec": {
   "name": "python3",
   "display_name": "Python 3",
   "language": "python"
  }
 },
 "nbformat": 4,
 "nbformat_minor": 2,
 "cells": [
  {
   "source": [
    "# ВКР на политфаке: how to?\n",
    "\n",
    "## Part II: лемматизировали, лемматизировали, да не вылемматизировали...\n",
    "\n",
    "В этой части мы выполняем формальную обработку текстов \n",
    "\n",
    "*Никита Смирнов, Анна Иванешкина, БПТ-181*"
   ],
   "cell_type": "markdown",
   "metadata": {}
  },
  {
   "source": [
    "**0. Подгрузка всех необходимых пакетов**"
   ],
   "cell_type": "markdown",
   "metadata": {}
  },
  {
   "cell_type": "code",
   "execution_count": 2,
   "metadata": {},
   "outputs": [],
   "source": [
    "import numpy as np\n",
    "import pandas as pd \n",
    "import nltk\n",
    "\n",
    "from nltk.tokenize import TweetTokenizer\n",
    "from pymystem3 import Mystem"
   ]
  },
  {
   "cell_type": "code",
   "execution_count": 3,
   "metadata": {},
   "outputs": [
    {
     "output_type": "execute_result",
     "data": {
      "text/plain": [
       "                                           papername  \\\n",
       "0  \"Абсурдные\" электоральные акторы: происхождени...   \n",
       "1  Взаимосвязь между стабильностью политического ...   \n",
       "2  Взаимосвязь между электронным правительством и...   \n",
       "3  Взаимосвязь социально-политической напряженнос...   \n",
       "4  Взаимосвязь уровня коррупции и гендерного нера...   \n",
       "\n",
       "                              annotlink  text                       student  \\\n",
       "0  https://www.hse.ru/edu/vkr/364642404     1     Коротеева Полина Петровна   \n",
       "1  https://www.hse.ru/edu/vkr/366243110     0   Минина Анастасия Алексеевна   \n",
       "2  https://www.hse.ru/edu/vkr/366241655     0    Науширванов Тимур Олегович   \n",
       "3  https://www.hse.ru/edu/vkr/366244578     1   Локаева Екатерина Андреевна   \n",
       "4  https://www.hse.ru/edu/vkr/366242960     0  Макарова Анастасия Вадимовна   \n",
       "\n",
       "   year                      supervisor                        superlink  \\\n",
       "0  2020        Каспэ Святослав Игоревич     www.hse.ru/org/persons/67280   \n",
       "1  2020           Розенберг Дина Яновна  www.hse.ru/org/persons/64235685   \n",
       "2  2020           Розенберг Дина Яновна  www.hse.ru/org/persons/64235685   \n",
       "3  2020  Туровский Ростислав Феликсович     www.hse.ru/org/persons/67524   \n",
       "4  2020   Сальникова Дарья Вячеславовна       www.hse.ru/staff/salnikova   \n",
       "\n",
       "       program  mark                                              annot  \n",
       "0  Политология   8.0  Данная работа посвящена изучению того, какие ф...  \n",
       "1  Политология   NaN  Работа посвящена изучению террористической акт...  \n",
       "2  Политология   NaN  Исследование посвящено изучению взаимосвязей м...  \n",
       "3  Политология   8.0  Данное исследование фокусируется на выявлении ...  \n",
       "4  Политология   NaN  В настоящей работе целью исследования является...  "
      ],
      "text/html": "<div>\n<style scoped>\n    .dataframe tbody tr th:only-of-type {\n        vertical-align: middle;\n    }\n\n    .dataframe tbody tr th {\n        vertical-align: top;\n    }\n\n    .dataframe thead th {\n        text-align: right;\n    }\n</style>\n<table border=\"1\" class=\"dataframe\">\n  <thead>\n    <tr style=\"text-align: right;\">\n      <th></th>\n      <th>papername</th>\n      <th>annotlink</th>\n      <th>text</th>\n      <th>student</th>\n      <th>year</th>\n      <th>supervisor</th>\n      <th>superlink</th>\n      <th>program</th>\n      <th>mark</th>\n      <th>annot</th>\n    </tr>\n  </thead>\n  <tbody>\n    <tr>\n      <th>0</th>\n      <td>\"Абсурдные\" электоральные акторы: происхождени...</td>\n      <td>https://www.hse.ru/edu/vkr/364642404</td>\n      <td>1</td>\n      <td>Коротеева Полина Петровна</td>\n      <td>2020</td>\n      <td>Каспэ Святослав Игоревич</td>\n      <td>www.hse.ru/org/persons/67280</td>\n      <td>Политология</td>\n      <td>8.0</td>\n      <td>Данная работа посвящена изучению того, какие ф...</td>\n    </tr>\n    <tr>\n      <th>1</th>\n      <td>Взаимосвязь между стабильностью политического ...</td>\n      <td>https://www.hse.ru/edu/vkr/366243110</td>\n      <td>0</td>\n      <td>Минина Анастасия Алексеевна</td>\n      <td>2020</td>\n      <td>Розенберг Дина Яновна</td>\n      <td>www.hse.ru/org/persons/64235685</td>\n      <td>Политология</td>\n      <td>NaN</td>\n      <td>Работа посвящена изучению террористической акт...</td>\n    </tr>\n    <tr>\n      <th>2</th>\n      <td>Взаимосвязь между электронным правительством и...</td>\n      <td>https://www.hse.ru/edu/vkr/366241655</td>\n      <td>0</td>\n      <td>Науширванов Тимур Олегович</td>\n      <td>2020</td>\n      <td>Розенберг Дина Яновна</td>\n      <td>www.hse.ru/org/persons/64235685</td>\n      <td>Политология</td>\n      <td>NaN</td>\n      <td>Исследование посвящено изучению взаимосвязей м...</td>\n    </tr>\n    <tr>\n      <th>3</th>\n      <td>Взаимосвязь социально-политической напряженнос...</td>\n      <td>https://www.hse.ru/edu/vkr/366244578</td>\n      <td>1</td>\n      <td>Локаева Екатерина Андреевна</td>\n      <td>2020</td>\n      <td>Туровский Ростислав Феликсович</td>\n      <td>www.hse.ru/org/persons/67524</td>\n      <td>Политология</td>\n      <td>8.0</td>\n      <td>Данное исследование фокусируется на выявлении ...</td>\n    </tr>\n    <tr>\n      <th>4</th>\n      <td>Взаимосвязь уровня коррупции и гендерного нера...</td>\n      <td>https://www.hse.ru/edu/vkr/366242960</td>\n      <td>0</td>\n      <td>Макарова Анастасия Вадимовна</td>\n      <td>2020</td>\n      <td>Сальникова Дарья Вячеславовна</td>\n      <td>www.hse.ru/staff/salnikova</td>\n      <td>Политология</td>\n      <td>NaN</td>\n      <td>В настоящей работе целью исследования является...</td>\n    </tr>\n  </tbody>\n</table>\n</div>"
     },
     "metadata": {},
     "execution_count": 3
    }
   ],
   "source": [
    "vkr = pd.read_csv(r'C:\\Users\\dramm\\Desktop\\vkr.csv', index_col='Unnamed: 0')\n",
    "vkr.head()"
   ]
  },
  {
   "source": [
    "**1. Стоп-слова и токенизация**"
   ],
   "cell_type": "markdown",
   "metadata": {}
  },
  {
   "cell_type": "code",
   "execution_count": 4,
   "metadata": {},
   "outputs": [
    {
     "output_type": "stream",
     "name": "stderr",
     "text": [
      "[nltk_data] Downloading package stopwords to\n[nltk_data]     C:\\Users\\dramm\\AppData\\Roaming\\nltk_data...\n[nltk_data]   Package stopwords is already up-to-date!\n"
     ]
    },
    {
     "output_type": "execute_result",
     "data": {
      "text/plain": [
       "array(['и', 'в', 'во', 'не', 'что', 'он', 'на', 'я', 'с', 'со', 'как',\n",
       "       'а', 'то', 'все', 'она', 'так', 'его', 'но', 'да', 'ты', 'к', 'у',\n",
       "       'же', 'вы', 'за', 'бы', 'по', 'только', 'ее', 'мне', 'было', 'вот',\n",
       "       'от', 'меня', 'еще', 'нет', 'о', 'из', 'ему', 'теперь', 'когда',\n",
       "       'даже', 'ну', 'вдруг', 'ли', 'если', 'уже', 'или', 'ни', 'быть',\n",
       "       'был', 'него', 'до', 'вас', 'нибудь', 'опять', 'уж', 'вам', 'ведь',\n",
       "       'там', 'потом', 'себя', 'ничего', 'ей', 'может', 'они', 'тут',\n",
       "       'где', 'есть', 'надо', 'ней', 'для', 'мы', 'тебя', 'их', 'чем',\n",
       "       'была', 'сам', 'чтоб', 'без', 'будто', 'чего', 'раз', 'тоже',\n",
       "       'себе', 'под', 'будет', 'ж', 'тогда', 'кто', 'этот', 'того',\n",
       "       'потому', 'этого', 'какой', 'совсем', 'ним', 'здесь', 'этом',\n",
       "       'один', 'почти', 'мой', 'тем', 'чтобы', 'нее', 'сейчас', 'были',\n",
       "       'куда', 'зачем', 'всех', 'никогда', 'можно', 'при', 'наконец',\n",
       "       'два', 'об', 'другой', 'хоть', 'после', 'над', 'больше', 'тот',\n",
       "       'через', 'эти', 'нас', 'про', 'всего', 'них', 'какая', 'много',\n",
       "       'разве', 'три', 'эту', 'моя', 'впрочем', 'хорошо', 'свою', 'этой',\n",
       "       'перед', 'иногда', 'лучше', 'чуть', 'том', 'нельзя', 'такой', 'им',\n",
       "       'более', 'всегда', 'конечно', 'всю', 'между'], dtype='<U7')"
      ]
     },
     "metadata": {},
     "execution_count": 4
    }
   ],
   "source": [
    "nltk.download(\"stopwords\")\n",
    "\n",
    "from nltk.corpus import stopwords\n",
    "stop_words = stopwords.words('russian')\n",
    "\n",
    "np.array(stop_words)"
   ]
  },
  {
   "cell_type": "code",
   "execution_count": 5,
   "metadata": {},
   "outputs": [],
   "source": [
    "tokenizer = TweetTokenizer()\n",
    "\n",
    "def preprocess(text : str, tokenizer):\n",
    "    return ' '.join(\n",
    "        [word for word in tokenizer.tokenize(text.lower()) if word not in stop_words]\n",
    "        )"
   ]
  },
  {
   "cell_type": "code",
   "execution_count": 6,
   "metadata": {},
   "outputs": [
    {
     "output_type": "execute_result",
     "data": {
      "text/plain": [
       "                                           papername  \\\n",
       "0  \"Абсурдные\" электоральные акторы: происхождени...   \n",
       "1  Взаимосвязь между стабильностью политического ...   \n",
       "2  Взаимосвязь между электронным правительством и...   \n",
       "3  Взаимосвязь социально-политической напряженнос...   \n",
       "4  Взаимосвязь уровня коррупции и гендерного нера...   \n",
       "\n",
       "                              annotlink  text                       student  \\\n",
       "0  https://www.hse.ru/edu/vkr/364642404     1     Коротеева Полина Петровна   \n",
       "1  https://www.hse.ru/edu/vkr/366243110     0   Минина Анастасия Алексеевна   \n",
       "2  https://www.hse.ru/edu/vkr/366241655     0    Науширванов Тимур Олегович   \n",
       "3  https://www.hse.ru/edu/vkr/366244578     1   Локаева Екатерина Андреевна   \n",
       "4  https://www.hse.ru/edu/vkr/366242960     0  Макарова Анастасия Вадимовна   \n",
       "\n",
       "   year                      supervisor                        superlink  \\\n",
       "0  2020        Каспэ Святослав Игоревич     www.hse.ru/org/persons/67280   \n",
       "1  2020           Розенберг Дина Яновна  www.hse.ru/org/persons/64235685   \n",
       "2  2020           Розенберг Дина Яновна  www.hse.ru/org/persons/64235685   \n",
       "3  2020  Туровский Ростислав Феликсович     www.hse.ru/org/persons/67524   \n",
       "4  2020   Сальникова Дарья Вячеславовна       www.hse.ru/staff/salnikova   \n",
       "\n",
       "       program  mark                                              annot  \\\n",
       "0  Политология   8.0  Данная работа посвящена изучению того, какие ф...   \n",
       "1  Политология   NaN  Работа посвящена изучению террористической акт...   \n",
       "2  Политология   NaN  Исследование посвящено изучению взаимосвязей м...   \n",
       "3  Политология   8.0  Данное исследование фокусируется на выявлении ...   \n",
       "4  Политология   NaN  В настоящей работе целью исследования является...   \n",
       "\n",
       "                                          annottoken  \n",
       "0  данная работа посвящена изучению , какие факто...  \n",
       "1  работа посвящена изучению террористической акт...  \n",
       "2  исследование посвящено изучению взаимосвязей э...  \n",
       "3  данное исследование фокусируется выявлении пол...  \n",
       "4  настоящей работе целью исследования является о...  "
      ],
      "text/html": "<div>\n<style scoped>\n    .dataframe tbody tr th:only-of-type {\n        vertical-align: middle;\n    }\n\n    .dataframe tbody tr th {\n        vertical-align: top;\n    }\n\n    .dataframe thead th {\n        text-align: right;\n    }\n</style>\n<table border=\"1\" class=\"dataframe\">\n  <thead>\n    <tr style=\"text-align: right;\">\n      <th></th>\n      <th>papername</th>\n      <th>annotlink</th>\n      <th>text</th>\n      <th>student</th>\n      <th>year</th>\n      <th>supervisor</th>\n      <th>superlink</th>\n      <th>program</th>\n      <th>mark</th>\n      <th>annot</th>\n      <th>annottoken</th>\n    </tr>\n  </thead>\n  <tbody>\n    <tr>\n      <th>0</th>\n      <td>\"Абсурдные\" электоральные акторы: происхождени...</td>\n      <td>https://www.hse.ru/edu/vkr/364642404</td>\n      <td>1</td>\n      <td>Коротеева Полина Петровна</td>\n      <td>2020</td>\n      <td>Каспэ Святослав Игоревич</td>\n      <td>www.hse.ru/org/persons/67280</td>\n      <td>Политология</td>\n      <td>8.0</td>\n      <td>Данная работа посвящена изучению того, какие ф...</td>\n      <td>данная работа посвящена изучению , какие факто...</td>\n    </tr>\n    <tr>\n      <th>1</th>\n      <td>Взаимосвязь между стабильностью политического ...</td>\n      <td>https://www.hse.ru/edu/vkr/366243110</td>\n      <td>0</td>\n      <td>Минина Анастасия Алексеевна</td>\n      <td>2020</td>\n      <td>Розенберг Дина Яновна</td>\n      <td>www.hse.ru/org/persons/64235685</td>\n      <td>Политология</td>\n      <td>NaN</td>\n      <td>Работа посвящена изучению террористической акт...</td>\n      <td>работа посвящена изучению террористической акт...</td>\n    </tr>\n    <tr>\n      <th>2</th>\n      <td>Взаимосвязь между электронным правительством и...</td>\n      <td>https://www.hse.ru/edu/vkr/366241655</td>\n      <td>0</td>\n      <td>Науширванов Тимур Олегович</td>\n      <td>2020</td>\n      <td>Розенберг Дина Яновна</td>\n      <td>www.hse.ru/org/persons/64235685</td>\n      <td>Политология</td>\n      <td>NaN</td>\n      <td>Исследование посвящено изучению взаимосвязей м...</td>\n      <td>исследование посвящено изучению взаимосвязей э...</td>\n    </tr>\n    <tr>\n      <th>3</th>\n      <td>Взаимосвязь социально-политической напряженнос...</td>\n      <td>https://www.hse.ru/edu/vkr/366244578</td>\n      <td>1</td>\n      <td>Локаева Екатерина Андреевна</td>\n      <td>2020</td>\n      <td>Туровский Ростислав Феликсович</td>\n      <td>www.hse.ru/org/persons/67524</td>\n      <td>Политология</td>\n      <td>8.0</td>\n      <td>Данное исследование фокусируется на выявлении ...</td>\n      <td>данное исследование фокусируется выявлении пол...</td>\n    </tr>\n    <tr>\n      <th>4</th>\n      <td>Взаимосвязь уровня коррупции и гендерного нера...</td>\n      <td>https://www.hse.ru/edu/vkr/366242960</td>\n      <td>0</td>\n      <td>Макарова Анастасия Вадимовна</td>\n      <td>2020</td>\n      <td>Сальникова Дарья Вячеславовна</td>\n      <td>www.hse.ru/staff/salnikova</td>\n      <td>Политология</td>\n      <td>NaN</td>\n      <td>В настоящей работе целью исследования является...</td>\n      <td>настоящей работе целью исследования является о...</td>\n    </tr>\n  </tbody>\n</table>\n</div>"
     },
     "metadata": {},
     "execution_count": 6
    }
   ],
   "source": [
    "vkr['annottoken'] = vkr['annot'].astype(str).apply(preprocess, args=(tokenizer, ))\n",
    "vkr.head()"
   ]
  },
  {
   "source": [
    "**2. Лемматизация**"
   ],
   "cell_type": "markdown",
   "metadata": {}
  },
  {
   "cell_type": "code",
   "execution_count": 7,
   "metadata": {},
   "outputs": [],
   "source": [
    "m = Mystem()\n",
    "\n",
    "def lemmatize(text):\n",
    "    lemmas = m.lemmatize(text)\n",
    "    return (''.join(lemmas))\n",
    "\n",
    "vkr['lemmannot'] = vkr['annottoken'].apply(lemmatize)"
   ]
  },
  {
   "cell_type": "code",
   "execution_count": 8,
   "metadata": {},
   "outputs": [
    {
     "output_type": "execute_result",
     "data": {
      "text/plain": [
       "                                           papername  \\\n",
       "0  \"Абсурдные\" электоральные акторы: происхождени...   \n",
       "1  Взаимосвязь между стабильностью политического ...   \n",
       "2  Взаимосвязь между электронным правительством и...   \n",
       "3  Взаимосвязь социально-политической напряженнос...   \n",
       "4  Взаимосвязь уровня коррупции и гендерного нера...   \n",
       "\n",
       "                              annotlink  text                       student  \\\n",
       "0  https://www.hse.ru/edu/vkr/364642404     1     Коротеева Полина Петровна   \n",
       "1  https://www.hse.ru/edu/vkr/366243110     0   Минина Анастасия Алексеевна   \n",
       "2  https://www.hse.ru/edu/vkr/366241655     0    Науширванов Тимур Олегович   \n",
       "3  https://www.hse.ru/edu/vkr/366244578     1   Локаева Екатерина Андреевна   \n",
       "4  https://www.hse.ru/edu/vkr/366242960     0  Макарова Анастасия Вадимовна   \n",
       "\n",
       "   year                      supervisor                        superlink  \\\n",
       "0  2020        Каспэ Святослав Игоревич     www.hse.ru/org/persons/67280   \n",
       "1  2020           Розенберг Дина Яновна  www.hse.ru/org/persons/64235685   \n",
       "2  2020           Розенберг Дина Яновна  www.hse.ru/org/persons/64235685   \n",
       "3  2020  Туровский Ростислав Феликсович     www.hse.ru/org/persons/67524   \n",
       "4  2020   Сальникова Дарья Вячеславовна       www.hse.ru/staff/salnikova   \n",
       "\n",
       "       program  mark                                              annot  \\\n",
       "0  Политология   8.0  Данная работа посвящена изучению того, какие ф...   \n",
       "1  Политология   NaN  Работа посвящена изучению террористической акт...   \n",
       "2  Политология   NaN  Исследование посвящено изучению взаимосвязей м...   \n",
       "3  Политология   8.0  Данное исследование фокусируется на выявлении ...   \n",
       "4  Политология   NaN  В настоящей работе целью исследования является...   \n",
       "\n",
       "                                          annottoken  \\\n",
       "0  данная работа посвящена изучению , какие факто...   \n",
       "1  работа посвящена изучению террористической акт...   \n",
       "2  исследование посвящено изучению взаимосвязей э...   \n",
       "3  данное исследование фокусируется выявлении пол...   \n",
       "4  настоящей работе целью исследования является о...   \n",
       "\n",
       "                                           lemmannot  \n",
       "0  данный работа посвящать изучение , какой факто...  \n",
       "1  работа посвящать изучение террористический акт...  \n",
       "2  исследование посвящать изучение взаимосвязь эл...  \n",
       "3  данный исследование фокусироваться выявление п...  \n",
       "4  настоящий работа цель исследование являться оп...  "
      ],
      "text/html": "<div>\n<style scoped>\n    .dataframe tbody tr th:only-of-type {\n        vertical-align: middle;\n    }\n\n    .dataframe tbody tr th {\n        vertical-align: top;\n    }\n\n    .dataframe thead th {\n        text-align: right;\n    }\n</style>\n<table border=\"1\" class=\"dataframe\">\n  <thead>\n    <tr style=\"text-align: right;\">\n      <th></th>\n      <th>papername</th>\n      <th>annotlink</th>\n      <th>text</th>\n      <th>student</th>\n      <th>year</th>\n      <th>supervisor</th>\n      <th>superlink</th>\n      <th>program</th>\n      <th>mark</th>\n      <th>annot</th>\n      <th>annottoken</th>\n      <th>lemmannot</th>\n    </tr>\n  </thead>\n  <tbody>\n    <tr>\n      <th>0</th>\n      <td>\"Абсурдные\" электоральные акторы: происхождени...</td>\n      <td>https://www.hse.ru/edu/vkr/364642404</td>\n      <td>1</td>\n      <td>Коротеева Полина Петровна</td>\n      <td>2020</td>\n      <td>Каспэ Святослав Игоревич</td>\n      <td>www.hse.ru/org/persons/67280</td>\n      <td>Политология</td>\n      <td>8.0</td>\n      <td>Данная работа посвящена изучению того, какие ф...</td>\n      <td>данная работа посвящена изучению , какие факто...</td>\n      <td>данный работа посвящать изучение , какой факто...</td>\n    </tr>\n    <tr>\n      <th>1</th>\n      <td>Взаимосвязь между стабильностью политического ...</td>\n      <td>https://www.hse.ru/edu/vkr/366243110</td>\n      <td>0</td>\n      <td>Минина Анастасия Алексеевна</td>\n      <td>2020</td>\n      <td>Розенберг Дина Яновна</td>\n      <td>www.hse.ru/org/persons/64235685</td>\n      <td>Политология</td>\n      <td>NaN</td>\n      <td>Работа посвящена изучению террористической акт...</td>\n      <td>работа посвящена изучению террористической акт...</td>\n      <td>работа посвящать изучение террористический акт...</td>\n    </tr>\n    <tr>\n      <th>2</th>\n      <td>Взаимосвязь между электронным правительством и...</td>\n      <td>https://www.hse.ru/edu/vkr/366241655</td>\n      <td>0</td>\n      <td>Науширванов Тимур Олегович</td>\n      <td>2020</td>\n      <td>Розенберг Дина Яновна</td>\n      <td>www.hse.ru/org/persons/64235685</td>\n      <td>Политология</td>\n      <td>NaN</td>\n      <td>Исследование посвящено изучению взаимосвязей м...</td>\n      <td>исследование посвящено изучению взаимосвязей э...</td>\n      <td>исследование посвящать изучение взаимосвязь эл...</td>\n    </tr>\n    <tr>\n      <th>3</th>\n      <td>Взаимосвязь социально-политической напряженнос...</td>\n      <td>https://www.hse.ru/edu/vkr/366244578</td>\n      <td>1</td>\n      <td>Локаева Екатерина Андреевна</td>\n      <td>2020</td>\n      <td>Туровский Ростислав Феликсович</td>\n      <td>www.hse.ru/org/persons/67524</td>\n      <td>Политология</td>\n      <td>8.0</td>\n      <td>Данное исследование фокусируется на выявлении ...</td>\n      <td>данное исследование фокусируется выявлении пол...</td>\n      <td>данный исследование фокусироваться выявление п...</td>\n    </tr>\n    <tr>\n      <th>4</th>\n      <td>Взаимосвязь уровня коррупции и гендерного нера...</td>\n      <td>https://www.hse.ru/edu/vkr/366242960</td>\n      <td>0</td>\n      <td>Макарова Анастасия Вадимовна</td>\n      <td>2020</td>\n      <td>Сальникова Дарья Вячеславовна</td>\n      <td>www.hse.ru/staff/salnikova</td>\n      <td>Политология</td>\n      <td>NaN</td>\n      <td>В настоящей работе целью исследования является...</td>\n      <td>настоящей работе целью исследования является о...</td>\n      <td>настоящий работа цель исследование являться оп...</td>\n    </tr>\n  </tbody>\n</table>\n</div>"
     },
     "metadata": {},
     "execution_count": 8
    }
   ],
   "source": [
    "vkr.head()"
   ]
  },
  {
   "source": [
    "Замечательно! Теперь сохраним датафрейм в CSV, чтобы работать с ним дальше "
   ],
   "cell_type": "markdown",
   "metadata": {}
  },
  {
   "cell_type": "code",
   "execution_count": 9,
   "metadata": {},
   "outputs": [],
   "source": [
    "vkr.to_csv(r'C:\\Users\\dramm\\Desktop\\vkr_lemm.csv')"
   ]
  },
  {
   "cell_type": "code",
   "execution_count": null,
   "metadata": {},
   "outputs": [],
   "source": []
  }
 ]
}